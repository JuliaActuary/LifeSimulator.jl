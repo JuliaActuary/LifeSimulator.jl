{
 "cells": [
  {
   "cell_type": "code",
   "execution_count": 51,
   "metadata": {},
   "outputs": [
    {
     "name": "stderr",
     "output_type": "stream",
     "text": [
      "UserWarning: Existing model 'CashValue_ME_EX4' renamed to 'CashValue_ME_EX4_BAK2'\n"
     ]
    },
    {
     "data": {
      "text/plain": [
       "0.7503534269999363"
      ]
     },
     "execution_count": 51,
     "metadata": {},
     "output_type": "execute_result"
    }
   ],
   "source": [
    "import lifelib\n",
    "import timeit\n",
    "import pandas as pd\n",
    "import numpy as np\n",
    "import modelx as mx\n",
    "import openpyxl\n",
    "\n",
    "ex4 = mx.read_model('CashValue_ME_EX4')\n",
    "Projection = ex4.Projection\n",
    "\n",
    "timeit.timeit('ex4.Projection.result_pv()', globals=globals(), number=5)"
   ]
  },
  {
   "cell_type": "code",
   "execution_count": 52,
   "metadata": {},
   "outputs": [
    {
     "name": "stdout",
     "output_type": "stream",
     "text": [
      "model_point():                   spec_id  age_at_entry sex  policy_term  policy_count  \\\n",
      "point_id scen_id                                                        \n",
      "1        1             A            20   M           10           100   \n",
      "         2             A            20   M           10           100   \n",
      "         3             A            20   M           10           100   \n",
      "         4             A            20   M           10           100   \n",
      "         5             A            20   M           10           100   \n",
      "...                  ...           ...  ..          ...           ...   \n",
      "9        996           A            20   M           10           100   \n",
      "         997           A            20   M           10           100   \n",
      "         998           A            20   M           10           100   \n",
      "         999           A            20   M           10           100   \n",
      "         1000          A            20   M           10           100   \n",
      "\n",
      "                  sum_assured  duration_mth  premium_pp  av_pp_init  \\\n",
      "point_id scen_id                                                      \n",
      "1        1             500000             0      500000           0   \n",
      "         2             500000             0      500000           0   \n",
      "         3             500000             0      500000           0   \n",
      "         4             500000             0      500000           0   \n",
      "         5             500000             0      500000           0   \n",
      "...                       ...           ...         ...         ...   \n",
      "9        996           500000             0      300000           0   \n",
      "         997           500000             0      300000           0   \n",
      "         998           500000             0      300000           0   \n",
      "         999           500000             0      300000           0   \n",
      "         1000          500000             0      300000           0   \n",
      "\n",
      "                  accum_prem_init_pp premium_type  has_surr_charge  \\\n",
      "point_id scen_id                                                     \n",
      "1        1                         0       SINGLE            False   \n",
      "         2                         0       SINGLE            False   \n",
      "         3                         0       SINGLE            False   \n",
      "         4                         0       SINGLE            False   \n",
      "         5                         0       SINGLE            False   \n",
      "...                              ...          ...              ...   \n",
      "9        996                       0       SINGLE            False   \n",
      "         997                       0       SINGLE            False   \n",
      "         998                       0       SINGLE            False   \n",
      "         999                       0       SINGLE            False   \n",
      "         1000                      0       SINGLE            False   \n",
      "\n",
      "                 surr_charge_id  load_prem_rate  is_wl  \n",
      "point_id scen_id                                        \n",
      "1        1                  NaN             0.0  False  \n",
      "         2                  NaN             0.0  False  \n",
      "         3                  NaN             0.0  False  \n",
      "         4                  NaN             0.0  False  \n",
      "         5                  NaN             0.0  False  \n",
      "...                         ...             ...    ...  \n",
      "9        996                NaN             0.0  False  \n",
      "         997                NaN             0.0  False  \n",
      "         998                NaN             0.0  False  \n",
      "         999                NaN             0.0  False  \n",
      "         1000               NaN             0.0  False  \n",
      "\n",
      "[9000 rows x 15 columns]\n",
      "with indices:  MultiIndex([(1,    1),\n",
      "            (1,    2),\n",
      "            (1,    3),\n",
      "            (1,    4),\n",
      "            (1,    5),\n",
      "            (1,    6),\n",
      "            (1,    7),\n",
      "            (1,    8),\n",
      "            (1,    9),\n",
      "            (1,   10),\n",
      "            ...\n",
      "            (9,  991),\n",
      "            (9,  992),\n",
      "            (9,  993),\n",
      "            (9,  994),\n",
      "            (9,  995),\n",
      "            (9,  996),\n",
      "            (9,  997),\n",
      "            (9,  998),\n",
      "            (9,  999),\n",
      "            (9, 1000)],\n",
      "           names=['point_id', 'scen_id'], length=9000)\n"
     ]
    }
   ],
   "source": [
    "# Projection.model_point_table = Projection.model_point_1\n",
    "table = Projection.model_point_table\n",
    "# print(\"Number of model points: \", len(table))\n",
    "# print(\"Model points: \", table)\n",
    "# points = Projection.model_point_table_ext()\n",
    "# points = Projection.model_point()[\"scen_id\"].values[990:1010]\n",
    "points = Projection.model_point()\n",
    "print(\"model_point(): \", points)\n",
    "print(\"with indices: \", points.index)"
   ]
  },
  {
   "cell_type": "code",
   "execution_count": 53,
   "metadata": {},
   "outputs": [
    {
     "name": "stdout",
     "output_type": "stream",
     "text": [
      "(9000,)\n",
      "900000.0\n",
      "[100. 100. 100. ... 100. 100. 100.]\n"
     ]
    }
   ],
   "source": [
    "pols = ex4.Projection.pols_if_at(12, \"BEF_DECR\")\n",
    "print(np.shape(pols))\n",
    "print(sum(pols))\n",
    "print(pols)"
   ]
  },
  {
   "cell_type": "code",
   "execution_count": 54,
   "metadata": {},
   "outputs": [
    {
     "data": {
      "text/plain": [
       "array([100., 100., 100., ..., 100., 100., 100.])"
      ]
     },
     "execution_count": 54,
     "metadata": {},
     "output_type": "execute_result"
    }
   ],
   "source": [
    "Projection.pols_if(1)"
   ]
  },
  {
   "cell_type": "code",
   "execution_count": 56,
   "metadata": {},
   "outputs": [
    {
     "data": {
      "text/plain": [
       "point_id  scen_id\n",
       "1         1         -3.475896e+06\n",
       "          2         -3.475896e+06\n",
       "          3         -3.475896e+06\n",
       "          4         -3.475896e+06\n",
       "          5         -3.475896e+06\n",
       "                         ...     \n",
       "9         996       -1.490894e+07\n",
       "          997       -1.245624e+07\n",
       "          998       -1.196305e+07\n",
       "          999       -8.771397e+06\n",
       "          1000      -1.148598e+07\n",
       "Name: Net Cashflow, Length: 9000, dtype: float64"
      ]
     },
     "execution_count": 56,
     "metadata": {},
     "output_type": "execute_result"
    }
   ],
   "source": [
    "Projection.result_pv()['Net Cashflow']"
   ]
  },
  {
   "cell_type": "code",
   "execution_count": null,
   "metadata": {},
   "outputs": [],
   "source": []
  },
  {
   "cell_type": "code",
   "execution_count": 17,
   "metadata": {},
   "outputs": [
    {
     "name": "stdout",
     "output_type": "stream",
     "text": [
      "121\n"
     ]
    },
    {
     "data": {
      "text/plain": [
       "array([50000000., 50000000., 50000000., ..., 30000000., 30000000.,\n",
       "       30000000.])"
      ]
     },
     "execution_count": 17,
     "metadata": {},
     "output_type": "execute_result"
    }
   ],
   "source": [
    "print(ex4.Projection.max_proj_len())\n",
    "ex4.Projection.pv_premiums()"
   ]
  },
  {
   "cell_type": "code",
   "execution_count": 18,
   "metadata": {},
   "outputs": [
    {
     "data": {
      "text/plain": [
       "array([100, 100, 100, ..., 100, 100, 100])"
      ]
     },
     "execution_count": 18,
     "metadata": {},
     "output_type": "execute_result"
    }
   ],
   "source": [
    "ex4.Projection.pols_new_biz(0)"
   ]
  },
  {
   "cell_type": "code",
   "execution_count": 45,
   "metadata": {},
   "outputs": [
    {
     "name": "stdout",
     "output_type": "stream",
     "text": [
      "Montlhy investment returns:  [ 0.00807793 -0.00048898 -0.00302246 ... -0.00917993 -0.00629737\n",
      " -0.00596671]\n",
      "with shape:  (9000,)\n"
     ]
    }
   ],
   "source": [
    "inv = Projection.inv_return_mth(2)\n",
    "print(\"Montlhy investment returns: \", inv)\n",
    "print(\"with shape: \", np.shape(inv))"
   ]
  },
  {
   "cell_type": "code",
   "execution_count": null,
   "metadata": {},
   "outputs": [],
   "source": [
    "Projection.result_pv()"
   ]
  }
 ],
 "metadata": {
  "kernelspec": {
   "display_name": "Python 3",
   "language": "python",
   "name": "python3"
  },
  "language_info": {
   "codemirror_mode": {
    "name": "ipython",
    "version": 3
   },
   "file_extension": ".py",
   "mimetype": "text/x-python",
   "name": "python",
   "nbconvert_exporter": "python",
   "pygments_lexer": "ipython3",
   "version": "3.10.10"
  },
  "orig_nbformat": 4
 },
 "nbformat": 4,
 "nbformat_minor": 2
}
